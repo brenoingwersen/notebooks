{
 "cells": [
  {
   "cell_type": "code",
   "execution_count": 1,
   "id": "2f901a67-ea63-45c7-9e30-fe3ef886d7d3",
   "metadata": {},
   "outputs": [],
   "source": [
    "import numpy as np\n",
    "from ortools.sat.python import cp_model"
   ]
  },
  {
   "cell_type": "code",
   "execution_count": 2,
   "id": "8a7b122b-1b77-4cc4-b237-1cff02e779a9",
   "metadata": {},
   "outputs": [],
   "source": [
    "# Initial sudoku grid\n",
    "initial_grid = [\n",
    "    [0, 6, 0, 0, 5, 0, 0, 2, 0],\n",
    "    [0, 0, 0, 3, 0, 0, 0, 9, 0],\n",
    "    [7, 0, 0, 6, 0, 0, 0, 1, 0],\n",
    "    [0, 0, 6, 0, 3, 0, 4, 0, 0],\n",
    "    [0, 0, 4, 0, 7, 0, 1, 0, 0],\n",
    "    [0, 0, 5, 0, 9, 0, 8, 0, 0],\n",
    "    [0, 4, 0, 0, 0, 1, 0, 0, 6],\n",
    "    [0, 3, 0, 0, 0, 8, 0, 0, 0],\n",
    "    [0, 2, 0, 0, 4, 0, 0, 5, 0],\n",
    "]\n",
    "\n",
    "# Size of the main grid\n",
    "N = 9\n",
    "# Size of subgrid\n",
    "S = 3"
   ]
  },
  {
   "cell_type": "code",
   "execution_count": 3,
   "id": "4172ca35-2650-41d2-b3bc-4cc5045e8275",
   "metadata": {},
   "outputs": [
    {
     "data": {
      "text/plain": [
       "'OPTIMAL'"
      ]
     },
     "execution_count": 3,
     "metadata": {},
     "output_type": "execute_result"
    }
   ],
   "source": [
    "# Initialize the CP-SAT instances\n",
    "solver = cp_model.CpSolver()\n",
    "model = cp_model.CpModel()\n",
    "\n",
    "# Create the variables\n",
    "variables = {}\n",
    "for row in range(len(initial_grid)):\n",
    "    for col in range(len(initial_grid[row])):\n",
    "        # Create a new variable that may take any integer value between 1 and 9\n",
    "        variables[row, col] = model.new_int_var(1, 9, f\"{(row, col)}\")\n",
    "\n",
    "\n",
    "# Add the model's constraints\n",
    "\n",
    "# All different on rows\n",
    "for row in range(N):\n",
    "    row_elements = [v for k, v in variables.items() if k[0] == row]\n",
    "    model.add_all_different(row_elements)\n",
    "\n",
    "# All different on cols\n",
    "for col in range(N):\n",
    "    col_elements = [v for k, v in variables.items() if k[1] == col]\n",
    "    model.add_all_different(col_elements)\n",
    "\n",
    "# All different in the subgrids\n",
    "for i in range(S):\n",
    "    for j in range(S):\n",
    "        start_row = i * S\n",
    "        start_col = j * S\n",
    "        cell_elements = [\n",
    "            variables[r, c]\n",
    "            for r in range(start_row, start_row + S)\n",
    "            for c in range(start_col, start_col + S)\n",
    "        ]\n",
    "        model.add_all_different(cell_elements)\n",
    "\n",
    "# Initial values\n",
    "for row in range(N):\n",
    "    for col in range(N):\n",
    "        el = initial_grid[row][col]\n",
    "        if el != 0:\n",
    "            model.add(variables[row, col] == el)\n",
    "\n",
    "# Solve the model\n",
    "solver.solve(model)\n",
    "solver.status_name()"
   ]
  },
  {
   "cell_type": "code",
   "execution_count": 4,
   "id": "cc774442-5802-475c-96a2-9b61a11a2863",
   "metadata": {},
   "outputs": [
    {
     "data": {
      "text/plain": [
       "[[8, 6, 1, 4, 5, 9, 7, 2, 3],\n",
       " [4, 5, 2, 3, 1, 7, 6, 9, 8],\n",
       " [7, 9, 3, 6, 8, 2, 5, 1, 4],\n",
       " [2, 1, 6, 8, 3, 5, 4, 7, 9],\n",
       " [9, 8, 4, 2, 7, 6, 1, 3, 5],\n",
       " [3, 7, 5, 1, 9, 4, 8, 6, 2],\n",
       " [5, 4, 7, 9, 2, 1, 3, 8, 6],\n",
       " [1, 3, 9, 5, 6, 8, 2, 4, 7],\n",
       " [6, 2, 8, 7, 4, 3, 9, 5, 1]]"
      ]
     },
     "execution_count": 4,
     "metadata": {},
     "output_type": "execute_result"
    }
   ],
   "source": [
    "# Retreive the solution\n",
    "solution = [row.copy() for row in initial_grid]\n",
    "for row in range(N):\n",
    "    for col in range(N):\n",
    "        solution[row][col] = solver.value(variables[row, col])\n",
    "\n",
    "solution"
   ]
  },
  {
   "cell_type": "code",
   "execution_count": null,
   "id": "ab845256-6459-488d-8a41-b075d2264251",
   "metadata": {},
   "outputs": [],
   "source": []
  }
 ],
 "metadata": {
  "kernelspec": {
   "display_name": "Python 3 (ipykernel)",
   "language": "python",
   "name": "python3"
  },
  "language_info": {
   "codemirror_mode": {
    "name": "ipython",
    "version": 3
   },
   "file_extension": ".py",
   "mimetype": "text/x-python",
   "name": "python",
   "nbconvert_exporter": "python",
   "pygments_lexer": "ipython3",
   "version": "3.13.2"
  }
 },
 "nbformat": 4,
 "nbformat_minor": 5
}
